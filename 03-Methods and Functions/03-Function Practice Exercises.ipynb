{
 "cells": [
  {
   "cell_type": "markdown",
   "metadata": {},
   "source": [
    "# Function Practice Exercises\n",
    "\n",
    "Problems are arranged in increasing difficulty:\n",
    "* Warmup - these can be solved using basic comparisons and methods\n",
    "* Level 1 - these may involve if/then conditional statements and simple methods\n",
    "* Level 2 - these may require iterating over sequences, usually with some kind of loop\n",
    "* Challenging - these will take some creativity to solve"
   ]
  },
  {
   "cell_type": "markdown",
   "metadata": {},
   "source": [
    "## WARMUP SECTION:"
   ]
  },
  {
   "cell_type": "markdown",
   "metadata": {},
   "source": [
    "#### LESSER OF TWO EVENS: Write a function that returns the lesser of two given numbers *if* both numbers are even, but returns the greater if one or both numbers are odd\n",
    "    lesser_of_two_evens(2,4) --> 2\n",
    "    lesser_of_two_evens(2,5) --> 5"
   ]
  },
  {
   "cell_type": "code",
   "execution_count": 1,
   "metadata": {},
   "outputs": [],
   "source": [
    "def lesser_of_two_evens(a,b):\n",
    "    if (a % 2 == 0 and b % 2 == 0):\n",
    "        return min(a, b)\n",
    "    else:\n",
    "        return max(a, b)"
   ]
  },
  {
   "cell_type": "code",
   "execution_count": 2,
   "metadata": {},
   "outputs": [
    {
     "data": {
      "text/plain": [
       "2"
      ]
     },
     "execution_count": 2,
     "metadata": {},
     "output_type": "execute_result"
    }
   ],
   "source": [
    "# Check\n",
    "lesser_of_two_evens(2,4)"
   ]
  },
  {
   "cell_type": "code",
   "execution_count": 3,
   "metadata": {},
   "outputs": [
    {
     "data": {
      "text/plain": [
       "5"
      ]
     },
     "execution_count": 3,
     "metadata": {},
     "output_type": "execute_result"
    }
   ],
   "source": [
    "# Check\n",
    "lesser_of_two_evens(2,5)"
   ]
  },
  {
   "cell_type": "markdown",
   "metadata": {},
   "source": [
    "#### ANIMAL CRACKERS: Write a function takes a two-word string and returns True if both words begin with same letter\n",
    "    animal_crackers('Levelheaded Llama') --> True\n",
    "    animal_crackers('Crazy Kangaroo') --> False"
   ]
  },
  {
   "cell_type": "code",
   "execution_count": 4,
   "metadata": {},
   "outputs": [],
   "source": [
    "def animal_crackers(text):\n",
    "    return len(set([char[0].lower() for char in text.split()])) == 1\n",
    "    "
   ]
  },
  {
   "cell_type": "code",
   "execution_count": 5,
   "metadata": {},
   "outputs": [
    {
     "data": {
      "text/plain": [
       "True"
      ]
     },
     "execution_count": 5,
     "metadata": {},
     "output_type": "execute_result"
    }
   ],
   "source": [
    "# Check\n",
    "animal_crackers('Levelheaded Llama')"
   ]
  },
  {
   "cell_type": "code",
   "execution_count": 6,
   "metadata": {},
   "outputs": [
    {
     "data": {
      "text/plain": [
       "False"
      ]
     },
     "execution_count": 6,
     "metadata": {},
     "output_type": "execute_result"
    }
   ],
   "source": [
    "# Check\n",
    "animal_crackers('Crazy Kangaroo')"
   ]
  },
  {
   "cell_type": "markdown",
   "metadata": {},
   "source": [
    "#### MAKES TWENTY: Given two integers, return True if the sum of the integers is 20 *or* if one of the integers is 20. If not, return False\n",
    "\n",
    "    makes_twenty(20,10) --> True\n",
    "    makes_twenty(12,8) --> True\n",
    "    makes_twenty(2,3) --> False"
   ]
  },
  {
   "cell_type": "code",
   "execution_count": 7,
   "metadata": {},
   "outputs": [],
   "source": [
    "def makes_twenty(n1,n2):\n",
    "    return n1+n2 == 20 or n1 == 20 or n2 == 20"
   ]
  },
  {
   "cell_type": "code",
   "execution_count": 8,
   "metadata": {},
   "outputs": [
    {
     "data": {
      "text/plain": [
       "True"
      ]
     },
     "execution_count": 8,
     "metadata": {},
     "output_type": "execute_result"
    }
   ],
   "source": [
    "# Check\n",
    "makes_twenty(12, 8)"
   ]
  },
  {
   "cell_type": "code",
   "execution_count": 9,
   "metadata": {},
   "outputs": [
    {
     "data": {
      "text/plain": [
       "False"
      ]
     },
     "execution_count": 9,
     "metadata": {},
     "output_type": "execute_result"
    }
   ],
   "source": [
    "# Check\n",
    "makes_twenty(2,3)"
   ]
  },
  {
   "cell_type": "markdown",
   "metadata": {},
   "source": [
    "# LEVEL 1 PROBLEMS"
   ]
  },
  {
   "cell_type": "markdown",
   "metadata": {},
   "source": [
    "#### OLD MACDONALD: Write a function that capitalizes the first and fourth letters of a name\n",
    "     \n",
    "    old_macdonald('macdonald') --> MacDonald\n",
    "    \n",
    "Note: `'macdonald'.capitalize()` returns `'Macdonald'`"
   ]
  },
  {
   "cell_type": "code",
   "execution_count": 10,
   "metadata": {},
   "outputs": [],
   "source": [
    "def old_macdonald(name):\n",
    "    if len(name) > 3:\n",
    "        return name[:3].capitalize() + name[3:].capitalize()\n",
    "    else:\n",
    "        return \"Name is too short\""
   ]
  },
  {
   "cell_type": "code",
   "execution_count": 11,
   "metadata": {},
   "outputs": [
    {
     "data": {
      "text/plain": [
       "'MacDonald'"
      ]
     },
     "execution_count": 11,
     "metadata": {},
     "output_type": "execute_result"
    }
   ],
   "source": [
    "# Check\n",
    "old_macdonald('macdonald')"
   ]
  },
  {
   "cell_type": "markdown",
   "metadata": {},
   "source": [
    "#### MASTER YODA: Given a sentence, return a sentence with the words reversed\n",
    "\n",
    "    master_yoda('I am home') --> 'home am I'\n",
    "    master_yoda('We are ready') --> 'ready are We'\n",
    "    \n",
    "Note: The .join() method may be useful here. The .join() method allows you to join together strings in a list with some connector string. For example, some uses of the .join() method:\n",
    "\n",
    "    >>> \"--\".join(['a','b','c'])\n",
    "    >>> 'a--b--c'\n",
    "\n",
    "This means if you had a list of words you wanted to turn back into a sentence, you could just join them with a single space string:\n",
    "\n",
    "    >>> \" \".join(['Hello','world'])\n",
    "    >>> \"Hello world\""
   ]
  },
  {
   "cell_type": "code",
   "execution_count": 12,
   "metadata": {},
   "outputs": [],
   "source": [
    "def master_yoda(text):\n",
    "    return \" \".join(text.split(' ')[::-1])"
   ]
  },
  {
   "cell_type": "code",
   "execution_count": 13,
   "metadata": {},
   "outputs": [
    {
     "data": {
      "text/plain": [
       "'home am I'"
      ]
     },
     "execution_count": 13,
     "metadata": {},
     "output_type": "execute_result"
    }
   ],
   "source": [
    "# Check\n",
    "master_yoda('I am home')"
   ]
  },
  {
   "cell_type": "code",
   "execution_count": 14,
   "metadata": {},
   "outputs": [
    {
     "data": {
      "text/plain": [
       "'ready are We'"
      ]
     },
     "execution_count": 14,
     "metadata": {},
     "output_type": "execute_result"
    }
   ],
   "source": [
    "# Check\n",
    "master_yoda('We are ready')"
   ]
  },
  {
   "cell_type": "markdown",
   "metadata": {},
   "source": [
    "#### ALMOST THERE: Given an integer n, return True if n is within 10 of either 100 or 200\n",
    "\n",
    "    almost_there(90) --> True\n",
    "    almost_there(104) --> True\n",
    "    almost_there(150) --> False\n",
    "    almost_there(209) --> True\n",
    "    \n",
    "NOTE: `abs(num)` returns the absolute value of a number"
   ]
  },
  {
   "cell_type": "code",
   "execution_count": 15,
   "metadata": {},
   "outputs": [],
   "source": [
    "def almost_there(n):\n",
    "    \n",
    "    #return n == 100 and n - abs(n)\n",
    "    return abs(n - 100) <= 10 or abs(n - 200) <= 10"
   ]
  },
  {
   "cell_type": "code",
   "execution_count": 16,
   "metadata": {},
   "outputs": [
    {
     "data": {
      "text/plain": [
       "True"
      ]
     },
     "execution_count": 16,
     "metadata": {},
     "output_type": "execute_result"
    }
   ],
   "source": [
    "# Check\n",
    "almost_there(104)"
   ]
  },
  {
   "cell_type": "code",
   "execution_count": 17,
   "metadata": {},
   "outputs": [
    {
     "data": {
      "text/plain": [
       "False"
      ]
     },
     "execution_count": 17,
     "metadata": {},
     "output_type": "execute_result"
    }
   ],
   "source": [
    "# Check\n",
    "almost_there(150)"
   ]
  },
  {
   "cell_type": "code",
   "execution_count": 18,
   "metadata": {},
   "outputs": [
    {
     "data": {
      "text/plain": [
       "True"
      ]
     },
     "execution_count": 18,
     "metadata": {},
     "output_type": "execute_result"
    }
   ],
   "source": [
    "# Check\n",
    "almost_there(209)"
   ]
  },
  {
   "cell_type": "markdown",
   "metadata": {},
   "source": [
    "# LEVEL 2 PROBLEMS"
   ]
  },
  {
   "cell_type": "markdown",
   "metadata": {},
   "source": [
    "#### FIND 33: \n",
    "\n",
    "Given a list of ints, return True if the array contains a 3 next to a 3 somewhere.\n",
    "\n",
    "    has_33([1, 3, 3]) → True\n",
    "    has_33([1, 3, 1, 3]) → False\n",
    "    has_33([3, 1, 3]) → False"
   ]
  },
  {
   "cell_type": "code",
   "execution_count": 19,
   "metadata": {},
   "outputs": [],
   "source": [
    "def has_33(nums):\n",
    "    # return len(nums) -1\n",
    "    #for i in range(0, len(nums) - 1):\n",
    "    #    if nums[i] == 3 and nums[i+1] == 3:\n",
    "    #        return True\n",
    "    #return False\n",
    "    \n",
    "    for i in range(0, len(nums) - 1):\n",
    "        if nums[i:i+2] == [3,3]:\n",
    "            return True\n",
    "    return False"
   ]
  },
  {
   "cell_type": "code",
   "execution_count": 20,
   "metadata": {},
   "outputs": [
    {
     "data": {
      "text/plain": [
       "True"
      ]
     },
     "execution_count": 20,
     "metadata": {},
     "output_type": "execute_result"
    }
   ],
   "source": [
    "# Check\n",
    "has_33([1, 3, 3])"
   ]
  },
  {
   "cell_type": "code",
   "execution_count": 21,
   "metadata": {},
   "outputs": [
    {
     "data": {
      "text/plain": [
       "False"
      ]
     },
     "execution_count": 21,
     "metadata": {},
     "output_type": "execute_result"
    }
   ],
   "source": [
    "# Check\n",
    "has_33([1, 3, 1, 3])"
   ]
  },
  {
   "cell_type": "code",
   "execution_count": 22,
   "metadata": {},
   "outputs": [
    {
     "data": {
      "text/plain": [
       "False"
      ]
     },
     "execution_count": 22,
     "metadata": {},
     "output_type": "execute_result"
    }
   ],
   "source": [
    "# Check\n",
    "has_33([3, 1, 3])"
   ]
  },
  {
   "cell_type": "markdown",
   "metadata": {},
   "source": [
    "#### PAPER DOLL: Given a string, return a string where for every character in the original there are three characters\n",
    "    paper_doll('Hello') --> 'HHHeeellllllooo'\n",
    "    paper_doll('Mississippi') --> 'MMMiiissssssiiippppppiii'"
   ]
  },
  {
   "cell_type": "code",
   "execution_count": 23,
   "metadata": {},
   "outputs": [],
   "source": [
    "def multiply(char):\n",
    "    return char * 3\n",
    "\n",
    "def paper_doll(text):\n",
    "    result = ''\n",
    "    for char in text:\n",
    "        result += char*3\n",
    "        \n",
    "    return result\n",
    "    "
   ]
  },
  {
   "cell_type": "code",
   "execution_count": 24,
   "metadata": {},
   "outputs": [
    {
     "data": {
      "text/plain": [
       "'HHHeeellllllooo'"
      ]
     },
     "execution_count": 24,
     "metadata": {},
     "output_type": "execute_result"
    }
   ],
   "source": [
    "# Check\n",
    "paper_doll('Hello')"
   ]
  },
  {
   "cell_type": "code",
   "execution_count": 25,
   "metadata": {},
   "outputs": [
    {
     "data": {
      "text/plain": [
       "'MMMiiissssssiiissssssiiippppppiii'"
      ]
     },
     "execution_count": 25,
     "metadata": {},
     "output_type": "execute_result"
    }
   ],
   "source": [
    "# Check\n",
    "paper_doll('Mississippi')"
   ]
  },
  {
   "cell_type": "markdown",
   "metadata": {},
   "source": [
    "#### BLACKJACK: Given three integers between 1 and 11, if their sum is less than or equal to 21, return their sum. If their sum exceeds 21 *and* there's an eleven, reduce the total sum by 10. Finally, if the sum (even after adjustment) exceeds 21, return 'BUST'\n",
    "    blackjack(5,6,7) --> 18\n",
    "    blackjack(9,9,9) --> 'BUST'\n",
    "    blackjack(9,9,11) --> 19"
   ]
  },
  {
   "cell_type": "code",
   "execution_count": 26,
   "metadata": {},
   "outputs": [],
   "source": [
    "def blackjack(a,b,c):\n",
    "    if sum([a,b,c]) <= 21:\n",
    "        return sum([a,b,c])\n",
    "    elif 11 in [a,b,c] and sum([a,b,c]) > 21:\n",
    "        return sum([a,b,c])-10\n",
    "    else:\n",
    "        return 'BUST'\n",
    "#     total = sum([a,b,c])\n",
    "#     if total <= 21:\n",
    "#         return total\n",
    "#     elif total > 21 and 11 in (a,b,c):\n",
    "#         return total - 10\n",
    "#     elif total > 21:\n",
    "#         return 'BUST'\n",
    "#     else:\n",
    "#         return total"
   ]
  },
  {
   "cell_type": "code",
   "execution_count": 27,
   "metadata": {},
   "outputs": [
    {
     "data": {
      "text/plain": [
       "18"
      ]
     },
     "execution_count": 27,
     "metadata": {},
     "output_type": "execute_result"
    }
   ],
   "source": [
    "# Check\n",
    "blackjack(5,6,7)"
   ]
  },
  {
   "cell_type": "code",
   "execution_count": 28,
   "metadata": {},
   "outputs": [
    {
     "data": {
      "text/plain": [
       "'BUST'"
      ]
     },
     "execution_count": 28,
     "metadata": {},
     "output_type": "execute_result"
    }
   ],
   "source": [
    "# Check\n",
    "blackjack(9,9,9)"
   ]
  },
  {
   "cell_type": "code",
   "execution_count": 29,
   "metadata": {},
   "outputs": [
    {
     "data": {
      "text/plain": [
       "19"
      ]
     },
     "execution_count": 29,
     "metadata": {},
     "output_type": "execute_result"
    }
   ],
   "source": [
    "# Check\n",
    "blackjack(9,9,11)"
   ]
  },
  {
   "cell_type": "markdown",
   "metadata": {},
   "source": [
    "#### SUMMER OF '69: Return the sum of the numbers in the array, except ignore sections of numbers starting with a 6 and extending to the next 9 (every 6 will be followed by at least one 9). Return 0 for no numbers.\n",
    " \n",
    "    summer_69([1, 3, 5]) --> 9\n",
    "    summer_69([4, 5, 6, 7, 8, 9]) --> 9\n",
    "    summer_69([2, 1, 6, 9, 11]) --> 14"
   ]
  },
  {
   "cell_type": "code",
   "execution_count": 30,
   "metadata": {},
   "outputs": [],
   "source": [
    "def summer_69(arr):\n",
    "    total = 0\n",
    "    add = True\n",
    "    \n",
    "    for num in arr:\n",
    "        while add:\n",
    "            if num != 6:\n",
    "                total += num\n",
    "                break\n",
    "            else:\n",
    "                add = False\n",
    "                break\n",
    "        while not add:\n",
    "            if num != 9:\n",
    "                break\n",
    "            else:\n",
    "                add = True\n",
    "                break\n",
    "                \n",
    "    return total"
   ]
  },
  {
   "cell_type": "code",
   "execution_count": 31,
   "metadata": {},
   "outputs": [
    {
     "data": {
      "text/plain": [
       "4"
      ]
     },
     "execution_count": 31,
     "metadata": {},
     "output_type": "execute_result"
    }
   ],
   "source": [
    "# Check\n",
    "summer_69([1, 3,])"
   ]
  },
  {
   "cell_type": "code",
   "execution_count": 32,
   "metadata": {},
   "outputs": [
    {
     "data": {
      "text/plain": [
       "9"
      ]
     },
     "execution_count": 32,
     "metadata": {},
     "output_type": "execute_result"
    }
   ],
   "source": [
    "# Check\n",
    "summer_69([4, 5, 6, 7, 8, 9])"
   ]
  },
  {
   "cell_type": "code",
   "execution_count": 33,
   "metadata": {},
   "outputs": [
    {
     "data": {
      "text/plain": [
       "14"
      ]
     },
     "execution_count": 33,
     "metadata": {},
     "output_type": "execute_result"
    }
   ],
   "source": [
    "# Check\n",
    "summer_69([2, 1, 6, 9, 11])"
   ]
  },
  {
   "cell_type": "markdown",
   "metadata": {},
   "source": [
    "# CHALLENGING PROBLEMS"
   ]
  },
  {
   "cell_type": "markdown",
   "metadata": {},
   "source": [
    "#### SPY GAME: Write a function that takes in a list of integers and returns True if it contains 007 in order\n",
    "\n",
    "     spy_game([1,2,4,0,0,7,5]) --> True\n",
    "     spy_game([1,0,2,4,0,5,7]) --> True\n",
    "     spy_game([1,7,2,0,4,5,0]) --> False\n"
   ]
  },
  {
   "cell_type": "code",
   "execution_count": 34,
   "metadata": {},
   "outputs": [],
   "source": [
    "def spy_game(nums):\n",
    "#     double_o_seven = False\n",
    "#     for i in range(0, len(nums)-1):\n",
    "#         if nums[i:i+3] == [0, 0, 7]:\n",
    "#             double_o_seven = True\n",
    "        \n",
    "#     return double_o_seven\n",
    "    code = [0,0,7,'x']\n",
    "    for num in nums:\n",
    "        if num == code[0]:\n",
    "            code.pop(0)\n",
    "    return len(code) == 1"
   ]
  },
  {
   "cell_type": "code",
   "execution_count": 35,
   "metadata": {},
   "outputs": [
    {
     "data": {
      "text/plain": [
       "True"
      ]
     },
     "execution_count": 35,
     "metadata": {},
     "output_type": "execute_result"
    }
   ],
   "source": [
    "# Check\n",
    "spy_game([1,2,4,0,0,7,5])"
   ]
  },
  {
   "cell_type": "code",
   "execution_count": 36,
   "metadata": {},
   "outputs": [
    {
     "data": {
      "text/plain": [
       "True"
      ]
     },
     "execution_count": 36,
     "metadata": {},
     "output_type": "execute_result"
    }
   ],
   "source": [
    "# Check\n",
    "spy_game([1,0,2,4,0,5,7])"
   ]
  },
  {
   "cell_type": "code",
   "execution_count": 37,
   "metadata": {},
   "outputs": [
    {
     "data": {
      "text/plain": [
       "False"
      ]
     },
     "execution_count": 37,
     "metadata": {},
     "output_type": "execute_result"
    }
   ],
   "source": [
    "# Check\n",
    "spy_game([1,7,2,0,4,5,0])"
   ]
  },
  {
   "cell_type": "markdown",
   "metadata": {},
   "source": [
    "#### COUNT PRIMES: Write a function that returns the *number* of prime numbers that exist up to and including a given number\n",
    "    count_primes(100) --> 25\n",
    "\n",
    "By convention, 0 and 1 are not prime."
   ]
  },
  {
   "cell_type": "code",
   "execution_count": 58,
   "metadata": {},
   "outputs": [],
   "source": [
    "def count_primes(num):\n",
    "    primes = [2]\n",
    "    x = 3\n",
    "    \n",
    "    # for 0 and 1\n",
    "    if num < 2:\n",
    "        return 0\n",
    "    while x <= num:\n",
    "        print('x while', x, num)\n",
    "        for y in range(3,x,2): # test all odd factors up to x-1\n",
    "            print('x', x)\n",
    "            print('y', y)\n",
    "            if x%y == 0: # check if \n",
    "                x += 2\n",
    "                break\n",
    "        else:\n",
    "            print('appending', x)\n",
    "            primes.append(x)\n",
    "            x += 2\n",
    "    print(primes)\n",
    "    return len(primes)"
   ]
  },
  {
   "cell_type": "code",
   "execution_count": 59,
   "metadata": {},
   "outputs": [
    {
     "name": "stdout",
     "output_type": "stream",
     "text": [
      "x while 3 100\n",
      "appending 3\n",
      "x while 5 100\n",
      "x 5\n",
      "y 3\n",
      "appending 5\n",
      "x while 7 100\n",
      "x 7\n",
      "y 3\n",
      "x 7\n",
      "y 5\n",
      "appending 7\n",
      "x while 9 100\n",
      "x 9\n",
      "y 3\n",
      "x while 11 100\n",
      "x 11\n",
      "y 3\n",
      "x 11\n",
      "y 5\n",
      "x 11\n",
      "y 7\n",
      "x 11\n",
      "y 9\n",
      "appending 11\n",
      "x while 13 100\n",
      "x 13\n",
      "y 3\n",
      "x 13\n",
      "y 5\n",
      "x 13\n",
      "y 7\n",
      "x 13\n",
      "y 9\n",
      "x 13\n",
      "y 11\n",
      "appending 13\n",
      "x while 15 100\n",
      "x 15\n",
      "y 3\n",
      "x while 17 100\n",
      "x 17\n",
      "y 3\n",
      "x 17\n",
      "y 5\n",
      "x 17\n",
      "y 7\n",
      "x 17\n",
      "y 9\n",
      "x 17\n",
      "y 11\n",
      "x 17\n",
      "y 13\n",
      "x 17\n",
      "y 15\n",
      "appending 17\n",
      "x while 19 100\n",
      "x 19\n",
      "y 3\n",
      "x 19\n",
      "y 5\n",
      "x 19\n",
      "y 7\n",
      "x 19\n",
      "y 9\n",
      "x 19\n",
      "y 11\n",
      "x 19\n",
      "y 13\n",
      "x 19\n",
      "y 15\n",
      "x 19\n",
      "y 17\n",
      "appending 19\n",
      "x while 21 100\n",
      "x 21\n",
      "y 3\n",
      "x while 23 100\n",
      "x 23\n",
      "y 3\n",
      "x 23\n",
      "y 5\n",
      "x 23\n",
      "y 7\n",
      "x 23\n",
      "y 9\n",
      "x 23\n",
      "y 11\n",
      "x 23\n",
      "y 13\n",
      "x 23\n",
      "y 15\n",
      "x 23\n",
      "y 17\n",
      "x 23\n",
      "y 19\n",
      "x 23\n",
      "y 21\n",
      "appending 23\n",
      "x while 25 100\n",
      "x 25\n",
      "y 3\n",
      "x 25\n",
      "y 5\n",
      "x while 27 100\n",
      "x 27\n",
      "y 3\n",
      "x while 29 100\n",
      "x 29\n",
      "y 3\n",
      "x 29\n",
      "y 5\n",
      "x 29\n",
      "y 7\n",
      "x 29\n",
      "y 9\n",
      "x 29\n",
      "y 11\n",
      "x 29\n",
      "y 13\n",
      "x 29\n",
      "y 15\n",
      "x 29\n",
      "y 17\n",
      "x 29\n",
      "y 19\n",
      "x 29\n",
      "y 21\n",
      "x 29\n",
      "y 23\n",
      "x 29\n",
      "y 25\n",
      "x 29\n",
      "y 27\n",
      "appending 29\n",
      "x while 31 100\n",
      "x 31\n",
      "y 3\n",
      "x 31\n",
      "y 5\n",
      "x 31\n",
      "y 7\n",
      "x 31\n",
      "y 9\n",
      "x 31\n",
      "y 11\n",
      "x 31\n",
      "y 13\n",
      "x 31\n",
      "y 15\n",
      "x 31\n",
      "y 17\n",
      "x 31\n",
      "y 19\n",
      "x 31\n",
      "y 21\n",
      "x 31\n",
      "y 23\n",
      "x 31\n",
      "y 25\n",
      "x 31\n",
      "y 27\n",
      "x 31\n",
      "y 29\n",
      "appending 31\n",
      "x while 33 100\n",
      "x 33\n",
      "y 3\n",
      "x while 35 100\n",
      "x 35\n",
      "y 3\n",
      "x 35\n",
      "y 5\n",
      "x while 37 100\n",
      "x 37\n",
      "y 3\n",
      "x 37\n",
      "y 5\n",
      "x 37\n",
      "y 7\n",
      "x 37\n",
      "y 9\n",
      "x 37\n",
      "y 11\n",
      "x 37\n",
      "y 13\n",
      "x 37\n",
      "y 15\n",
      "x 37\n",
      "y 17\n",
      "x 37\n",
      "y 19\n",
      "x 37\n",
      "y 21\n",
      "x 37\n",
      "y 23\n",
      "x 37\n",
      "y 25\n",
      "x 37\n",
      "y 27\n",
      "x 37\n",
      "y 29\n",
      "x 37\n",
      "y 31\n",
      "x 37\n",
      "y 33\n",
      "x 37\n",
      "y 35\n",
      "appending 37\n",
      "x while 39 100\n",
      "x 39\n",
      "y 3\n",
      "x while 41 100\n",
      "x 41\n",
      "y 3\n",
      "x 41\n",
      "y 5\n",
      "x 41\n",
      "y 7\n",
      "x 41\n",
      "y 9\n",
      "x 41\n",
      "y 11\n",
      "x 41\n",
      "y 13\n",
      "x 41\n",
      "y 15\n",
      "x 41\n",
      "y 17\n",
      "x 41\n",
      "y 19\n",
      "x 41\n",
      "y 21\n",
      "x 41\n",
      "y 23\n",
      "x 41\n",
      "y 25\n",
      "x 41\n",
      "y 27\n",
      "x 41\n",
      "y 29\n",
      "x 41\n",
      "y 31\n",
      "x 41\n",
      "y 33\n",
      "x 41\n",
      "y 35\n",
      "x 41\n",
      "y 37\n",
      "x 41\n",
      "y 39\n",
      "appending 41\n",
      "x while 43 100\n",
      "x 43\n",
      "y 3\n",
      "x 43\n",
      "y 5\n",
      "x 43\n",
      "y 7\n",
      "x 43\n",
      "y 9\n",
      "x 43\n",
      "y 11\n",
      "x 43\n",
      "y 13\n",
      "x 43\n",
      "y 15\n",
      "x 43\n",
      "y 17\n",
      "x 43\n",
      "y 19\n",
      "x 43\n",
      "y 21\n",
      "x 43\n",
      "y 23\n",
      "x 43\n",
      "y 25\n",
      "x 43\n",
      "y 27\n",
      "x 43\n",
      "y 29\n",
      "x 43\n",
      "y 31\n",
      "x 43\n",
      "y 33\n",
      "x 43\n",
      "y 35\n",
      "x 43\n",
      "y 37\n",
      "x 43\n",
      "y 39\n",
      "x 43\n",
      "y 41\n",
      "appending 43\n",
      "x while 45 100\n",
      "x 45\n",
      "y 3\n",
      "x while 47 100\n",
      "x 47\n",
      "y 3\n",
      "x 47\n",
      "y 5\n",
      "x 47\n",
      "y 7\n",
      "x 47\n",
      "y 9\n",
      "x 47\n",
      "y 11\n",
      "x 47\n",
      "y 13\n",
      "x 47\n",
      "y 15\n",
      "x 47\n",
      "y 17\n",
      "x 47\n",
      "y 19\n",
      "x 47\n",
      "y 21\n",
      "x 47\n",
      "y 23\n",
      "x 47\n",
      "y 25\n",
      "x 47\n",
      "y 27\n",
      "x 47\n",
      "y 29\n",
      "x 47\n",
      "y 31\n",
      "x 47\n",
      "y 33\n",
      "x 47\n",
      "y 35\n",
      "x 47\n",
      "y 37\n",
      "x 47\n",
      "y 39\n",
      "x 47\n",
      "y 41\n",
      "x 47\n",
      "y 43\n",
      "x 47\n",
      "y 45\n",
      "appending 47\n",
      "x while 49 100\n",
      "x 49\n",
      "y 3\n",
      "x 49\n",
      "y 5\n",
      "x 49\n",
      "y 7\n",
      "x while 51 100\n",
      "x 51\n",
      "y 3\n",
      "x while 53 100\n",
      "x 53\n",
      "y 3\n",
      "x 53\n",
      "y 5\n",
      "x 53\n",
      "y 7\n",
      "x 53\n",
      "y 9\n",
      "x 53\n",
      "y 11\n",
      "x 53\n",
      "y 13\n",
      "x 53\n",
      "y 15\n",
      "x 53\n",
      "y 17\n",
      "x 53\n",
      "y 19\n",
      "x 53\n",
      "y 21\n",
      "x 53\n",
      "y 23\n",
      "x 53\n",
      "y 25\n",
      "x 53\n",
      "y 27\n",
      "x 53\n",
      "y 29\n",
      "x 53\n",
      "y 31\n",
      "x 53\n",
      "y 33\n",
      "x 53\n",
      "y 35\n",
      "x 53\n",
      "y 37\n",
      "x 53\n",
      "y 39\n",
      "x 53\n",
      "y 41\n",
      "x 53\n",
      "y 43\n",
      "x 53\n",
      "y 45\n",
      "x 53\n",
      "y 47\n",
      "x 53\n",
      "y 49\n",
      "x 53\n",
      "y 51\n",
      "appending 53\n",
      "x while 55 100\n",
      "x 55\n",
      "y 3\n",
      "x 55\n",
      "y 5\n",
      "x while 57 100\n",
      "x 57\n",
      "y 3\n",
      "x while 59 100\n",
      "x 59\n",
      "y 3\n",
      "x 59\n",
      "y 5\n",
      "x 59\n",
      "y 7\n",
      "x 59\n",
      "y 9\n",
      "x 59\n",
      "y 11\n",
      "x 59\n",
      "y 13\n",
      "x 59\n",
      "y 15\n",
      "x 59\n",
      "y 17\n",
      "x 59\n",
      "y 19\n",
      "x 59\n",
      "y 21\n",
      "x 59\n",
      "y 23\n",
      "x 59\n",
      "y 25\n",
      "x 59\n",
      "y 27\n",
      "x 59\n",
      "y 29\n",
      "x 59\n",
      "y 31\n",
      "x 59\n",
      "y 33\n",
      "x 59\n",
      "y 35\n",
      "x 59\n",
      "y 37\n",
      "x 59\n",
      "y 39\n",
      "x 59\n",
      "y 41\n",
      "x 59\n",
      "y 43\n",
      "x 59\n",
      "y 45\n",
      "x 59\n",
      "y 47\n",
      "x 59\n",
      "y 49\n",
      "x 59\n",
      "y 51\n",
      "x 59\n",
      "y 53\n",
      "x 59\n",
      "y 55\n",
      "x 59\n",
      "y 57\n",
      "appending 59\n",
      "x while 61 100\n",
      "x 61\n",
      "y 3\n",
      "x 61\n",
      "y 5\n",
      "x 61\n",
      "y 7\n",
      "x 61\n",
      "y 9\n",
      "x 61\n",
      "y 11\n",
      "x 61\n",
      "y 13\n",
      "x 61\n",
      "y 15\n",
      "x 61\n",
      "y 17\n",
      "x 61\n",
      "y 19\n",
      "x 61\n",
      "y 21\n",
      "x 61\n",
      "y 23\n",
      "x 61\n",
      "y 25\n",
      "x 61\n",
      "y 27\n",
      "x 61\n",
      "y 29\n",
      "x 61\n",
      "y 31\n",
      "x 61\n",
      "y 33\n",
      "x 61\n",
      "y 35\n",
      "x 61\n",
      "y 37\n",
      "x 61\n",
      "y 39\n",
      "x 61\n",
      "y 41\n",
      "x 61\n",
      "y 43\n",
      "x 61\n",
      "y 45\n",
      "x 61\n",
      "y 47\n",
      "x 61\n",
      "y 49\n",
      "x 61\n",
      "y 51\n",
      "x 61\n",
      "y 53\n",
      "x 61\n",
      "y 55\n",
      "x 61\n",
      "y 57\n",
      "x 61\n",
      "y 59\n",
      "appending 61\n",
      "x while 63 100\n",
      "x 63\n",
      "y 3\n",
      "x while 65 100\n",
      "x 65\n",
      "y 3\n",
      "x 65\n",
      "y 5\n",
      "x while 67 100\n",
      "x 67\n",
      "y 3\n",
      "x 67\n",
      "y 5\n",
      "x 67\n",
      "y 7\n",
      "x 67\n",
      "y 9\n",
      "x 67\n",
      "y 11\n",
      "x 67\n",
      "y 13\n",
      "x 67\n",
      "y 15\n",
      "x 67\n",
      "y 17\n",
      "x 67\n",
      "y 19\n",
      "x 67\n",
      "y 21\n",
      "x 67\n",
      "y 23\n",
      "x 67\n",
      "y 25\n",
      "x 67\n",
      "y 27\n",
      "x 67\n",
      "y 29\n",
      "x 67\n",
      "y 31\n",
      "x 67\n",
      "y 33\n",
      "x 67\n",
      "y 35\n",
      "x 67\n",
      "y 37\n",
      "x 67\n",
      "y 39\n",
      "x 67\n",
      "y 41\n",
      "x 67\n",
      "y 43\n",
      "x 67\n",
      "y 45\n",
      "x 67\n",
      "y 47\n",
      "x 67\n",
      "y 49\n",
      "x 67\n",
      "y 51\n",
      "x 67\n",
      "y 53\n",
      "x 67\n",
      "y 55\n",
      "x 67\n",
      "y 57\n",
      "x 67\n",
      "y 59\n",
      "x 67\n",
      "y 61\n",
      "x 67\n",
      "y 63\n",
      "x 67\n",
      "y 65\n",
      "appending 67\n",
      "x while 69 100\n",
      "x 69\n",
      "y 3\n",
      "x while 71 100\n",
      "x 71\n",
      "y 3\n",
      "x 71\n",
      "y 5\n",
      "x 71\n",
      "y 7\n",
      "x 71\n",
      "y 9\n",
      "x 71\n",
      "y 11\n",
      "x 71\n",
      "y 13\n",
      "x 71\n",
      "y 15\n",
      "x 71\n",
      "y 17\n",
      "x 71\n",
      "y 19\n",
      "x 71\n",
      "y 21\n",
      "x 71\n",
      "y 23\n",
      "x 71\n",
      "y 25\n",
      "x 71\n",
      "y 27\n",
      "x 71\n",
      "y 29\n",
      "x 71\n",
      "y 31\n",
      "x 71\n",
      "y 33\n",
      "x 71\n",
      "y 35\n",
      "x 71\n",
      "y 37\n",
      "x 71\n",
      "y 39\n",
      "x 71\n",
      "y 41\n",
      "x 71\n",
      "y 43\n",
      "x 71\n",
      "y 45\n",
      "x 71\n",
      "y 47\n",
      "x 71\n",
      "y 49\n",
      "x 71\n",
      "y 51\n",
      "x 71\n",
      "y 53\n",
      "x 71\n",
      "y 55\n",
      "x 71\n",
      "y 57\n",
      "x 71\n",
      "y 59\n",
      "x 71\n",
      "y 61\n",
      "x 71\n",
      "y 63\n",
      "x 71\n",
      "y 65\n",
      "x 71\n",
      "y 67\n",
      "x 71\n",
      "y 69\n",
      "appending 71\n",
      "x while 73 100\n",
      "x 73\n",
      "y 3\n",
      "x 73\n",
      "y 5\n",
      "x 73\n",
      "y 7\n",
      "x 73\n",
      "y 9\n",
      "x 73\n",
      "y 11\n",
      "x 73\n",
      "y 13\n",
      "x 73\n",
      "y 15\n",
      "x 73\n",
      "y 17\n",
      "x 73\n",
      "y 19\n",
      "x 73\n",
      "y 21\n",
      "x 73\n",
      "y 23\n",
      "x 73\n",
      "y 25\n",
      "x 73\n",
      "y 27\n",
      "x 73\n",
      "y 29\n",
      "x 73\n",
      "y 31\n",
      "x 73\n",
      "y 33\n",
      "x 73\n",
      "y 35\n",
      "x 73\n",
      "y 37\n",
      "x 73\n",
      "y 39\n",
      "x 73\n",
      "y 41\n",
      "x 73\n",
      "y 43\n",
      "x 73\n",
      "y 45\n",
      "x 73\n",
      "y 47\n",
      "x 73\n",
      "y 49\n",
      "x 73\n",
      "y 51\n",
      "x 73\n",
      "y 53\n",
      "x 73\n",
      "y 55\n",
      "x 73\n",
      "y 57\n",
      "x 73\n",
      "y 59\n",
      "x 73\n",
      "y 61\n",
      "x 73\n",
      "y 63\n",
      "x 73\n",
      "y 65\n",
      "x 73\n",
      "y 67\n",
      "x 73\n",
      "y 69\n",
      "x 73\n",
      "y 71\n",
      "appending 73\n",
      "x while 75 100\n",
      "x 75\n",
      "y 3\n",
      "x while 77 100\n",
      "x 77\n",
      "y 3\n",
      "x 77\n",
      "y 5\n",
      "x 77\n",
      "y 7\n",
      "x while 79 100\n",
      "x 79\n",
      "y 3\n",
      "x 79\n",
      "y 5\n",
      "x 79\n",
      "y 7\n",
      "x 79\n",
      "y 9\n",
      "x 79\n",
      "y 11\n",
      "x 79\n",
      "y 13\n",
      "x 79\n",
      "y 15\n",
      "x 79\n",
      "y 17\n",
      "x 79\n",
      "y 19\n",
      "x 79\n",
      "y 21\n",
      "x 79\n",
      "y 23\n",
      "x 79\n",
      "y 25\n",
      "x 79\n",
      "y 27\n",
      "x 79\n",
      "y 29\n",
      "x 79\n",
      "y 31\n",
      "x 79\n",
      "y 33\n",
      "x 79\n",
      "y 35\n",
      "x 79\n",
      "y 37\n",
      "x 79\n",
      "y 39\n",
      "x 79\n",
      "y 41\n",
      "x 79\n",
      "y 43\n",
      "x 79\n",
      "y 45\n",
      "x 79\n",
      "y 47\n",
      "x 79\n",
      "y 49\n",
      "x 79\n",
      "y 51\n",
      "x 79\n",
      "y 53\n",
      "x 79\n",
      "y 55\n",
      "x 79\n",
      "y 57\n",
      "x 79\n",
      "y 59\n",
      "x 79\n",
      "y 61\n",
      "x 79\n",
      "y 63\n",
      "x 79\n",
      "y 65\n",
      "x 79\n",
      "y 67\n",
      "x 79\n",
      "y 69\n",
      "x 79\n",
      "y 71\n",
      "x 79\n",
      "y 73\n",
      "x 79\n",
      "y 75\n",
      "x 79\n",
      "y 77\n",
      "appending 79\n",
      "x while 81 100\n",
      "x 81\n",
      "y 3\n",
      "x while 83 100\n",
      "x 83\n",
      "y 3\n",
      "x 83\n",
      "y 5\n",
      "x 83\n",
      "y 7\n",
      "x 83\n",
      "y 9\n",
      "x 83\n",
      "y 11\n",
      "x 83\n",
      "y 13\n",
      "x 83\n",
      "y 15\n",
      "x 83\n",
      "y 17\n",
      "x 83\n",
      "y 19\n",
      "x 83\n",
      "y 21\n",
      "x 83\n",
      "y 23\n",
      "x 83\n",
      "y 25\n",
      "x 83\n",
      "y 27\n",
      "x 83\n",
      "y 29\n",
      "x 83\n",
      "y 31\n",
      "x 83\n",
      "y 33\n",
      "x 83\n",
      "y 35\n",
      "x 83\n",
      "y 37\n",
      "x 83\n",
      "y 39\n",
      "x 83\n",
      "y 41\n",
      "x 83\n",
      "y 43\n",
      "x 83\n",
      "y 45\n",
      "x 83\n",
      "y 47\n",
      "x 83\n",
      "y 49\n",
      "x 83\n",
      "y 51\n",
      "x 83\n",
      "y 53\n",
      "x 83\n",
      "y 55\n",
      "x 83\n",
      "y 57\n",
      "x 83\n",
      "y 59\n",
      "x 83\n",
      "y 61\n",
      "x 83\n",
      "y 63\n",
      "x 83\n",
      "y 65\n",
      "x 83\n",
      "y 67\n",
      "x 83\n",
      "y 69\n",
      "x 83\n",
      "y 71\n",
      "x 83\n",
      "y 73\n",
      "x 83\n",
      "y 75\n",
      "x 83\n",
      "y 77\n",
      "x 83\n",
      "y 79\n",
      "x 83\n",
      "y 81\n",
      "appending 83\n",
      "x while 85 100\n",
      "x 85\n",
      "y 3\n",
      "x 85\n",
      "y 5\n",
      "x while 87 100\n",
      "x 87\n",
      "y 3\n",
      "x while 89 100\n",
      "x 89\n",
      "y 3\n",
      "x 89\n",
      "y 5\n",
      "x 89\n",
      "y 7\n",
      "x 89\n",
      "y 9\n",
      "x 89\n",
      "y 11\n",
      "x 89\n",
      "y 13\n",
      "x 89\n",
      "y 15\n",
      "x 89\n",
      "y 17\n",
      "x 89\n",
      "y 19\n",
      "x 89\n",
      "y 21\n",
      "x 89\n",
      "y 23\n",
      "x 89\n",
      "y 25\n",
      "x 89\n",
      "y 27\n",
      "x 89\n",
      "y 29\n",
      "x 89\n",
      "y 31\n",
      "x 89\n",
      "y 33\n",
      "x 89\n",
      "y 35\n",
      "x 89\n",
      "y 37\n",
      "x 89\n",
      "y 39\n",
      "x 89\n",
      "y 41\n",
      "x 89\n",
      "y 43\n",
      "x 89\n",
      "y 45\n",
      "x 89\n",
      "y 47\n",
      "x 89\n",
      "y 49\n",
      "x 89\n",
      "y 51\n",
      "x 89\n",
      "y 53\n",
      "x 89\n",
      "y 55\n",
      "x 89\n",
      "y 57\n",
      "x 89\n",
      "y 59\n",
      "x 89\n",
      "y 61\n",
      "x 89\n",
      "y 63\n",
      "x 89\n",
      "y 65\n",
      "x 89\n",
      "y 67\n",
      "x 89\n",
      "y 69\n",
      "x 89\n",
      "y 71\n",
      "x 89\n",
      "y 73\n",
      "x 89\n",
      "y 75\n",
      "x 89\n",
      "y 77\n",
      "x 89\n",
      "y 79\n",
      "x 89\n",
      "y 81\n",
      "x 89\n",
      "y 83\n",
      "x 89\n",
      "y 85\n",
      "x 89\n",
      "y 87\n",
      "appending 89\n",
      "x while 91 100\n",
      "x 91\n",
      "y 3\n",
      "x 91\n",
      "y 5\n",
      "x 91\n",
      "y 7\n",
      "x while 93 100\n",
      "x 93\n",
      "y 3\n",
      "x while 95 100\n",
      "x 95\n",
      "y 3\n",
      "x 95\n",
      "y 5\n",
      "x while 97 100\n",
      "x 97\n",
      "y 3\n",
      "x 97\n",
      "y 5\n",
      "x 97\n",
      "y 7\n",
      "x 97\n",
      "y 9\n",
      "x 97\n",
      "y 11\n",
      "x 97\n",
      "y 13\n",
      "x 97\n",
      "y 15\n",
      "x 97\n",
      "y 17\n",
      "x 97\n",
      "y 19\n",
      "x 97\n",
      "y 21\n",
      "x 97\n",
      "y 23\n",
      "x 97\n",
      "y 25\n",
      "x 97\n",
      "y 27\n",
      "x 97\n",
      "y 29\n",
      "x 97\n",
      "y 31\n",
      "x 97\n",
      "y 33\n",
      "x 97\n",
      "y 35\n",
      "x 97\n",
      "y 37\n",
      "x 97\n",
      "y 39\n",
      "x 97\n",
      "y 41\n",
      "x 97\n",
      "y 43\n",
      "x 97\n",
      "y 45\n",
      "x 97\n",
      "y 47\n",
      "x 97\n",
      "y 49\n",
      "x 97\n",
      "y 51\n",
      "x 97\n",
      "y 53\n",
      "x 97\n",
      "y 55\n",
      "x 97\n",
      "y 57\n",
      "x 97\n",
      "y 59\n",
      "x 97\n",
      "y 61\n",
      "x 97\n",
      "y 63\n",
      "x 97\n",
      "y 65\n",
      "x 97\n",
      "y 67\n",
      "x 97\n",
      "y 69\n",
      "x 97\n",
      "y 71\n",
      "x 97\n",
      "y 73\n",
      "x 97\n",
      "y 75\n",
      "x 97\n",
      "y 77\n",
      "x 97\n",
      "y 79\n",
      "x 97\n",
      "y 81\n",
      "x 97\n",
      "y 83\n",
      "x 97\n",
      "y 85\n",
      "x 97\n",
      "y 87\n",
      "x 97\n",
      "y 89\n",
      "x 97\n",
      "y 91\n",
      "x 97\n",
      "y 93\n",
      "x 97\n",
      "y 95\n",
      "appending 97\n",
      "x while 99 100\n",
      "x 99\n",
      "y 3\n",
      "[2, 3, 5, 7, 11, 13, 17, 19, 23, 29, 31, 37, 41, 43, 47, 53, 59, 61, 67, 71, 73, 79, 83, 89, 97]\n"
     ]
    },
    {
     "data": {
      "text/plain": [
       "25"
      ]
     },
     "execution_count": 59,
     "metadata": {},
     "output_type": "execute_result"
    }
   ],
   "source": [
    "# Check\n",
    "count_primes(100)"
   ]
  },
  {
   "cell_type": "code",
   "execution_count": 45,
   "metadata": {},
   "outputs": [
    {
     "name": "stdout",
     "output_type": "stream",
     "text": [
      "[2, 3, 5, 7, 11, 13, 17, 19, 23, 29, 31, 37, 41, 43, 47]\n"
     ]
    },
    {
     "data": {
      "text/plain": [
       "15"
      ]
     },
     "execution_count": 45,
     "metadata": {},
     "output_type": "execute_result"
    }
   ],
   "source": [
    "count_primes(50)"
   ]
  },
  {
   "cell_type": "markdown",
   "metadata": {},
   "source": [
    "### Just for fun:\n",
    "#### PRINT BIG: Write a function that takes in a single letter, and returns a 5x5 representation of that letter\n",
    "    print_big('a')\n",
    "    \n",
    "    out:   *  \n",
    "          * *\n",
    "         *****\n",
    "         *   *\n",
    "         *   *\n",
    "HINT: Consider making a dictionary of possible patterns, and mapping the alphabet to specific 5-line combinations of patterns. <br>For purposes of this exercise, it's ok if your dictionary stops at \"E\"."
   ]
  },
  {
   "cell_type": "code",
   "execution_count": 108,
   "metadata": {},
   "outputs": [],
   "source": [
    "def print_big(letter):\n",
    "    patterns = {\n",
    "        1: '  *  ',\n",
    "        2: ' * * ',\n",
    "        3: '*   *',\n",
    "        4: '*****',\n",
    "        5: '**** ',\n",
    "        6: '*    ',\n",
    "        7: '***  ',\n",
    "        8: '*  * ',\n",
    "        \n",
    "        \n",
    "    }\n",
    "    alphabet = {\n",
    "        'A': [1,2,4,3,3],\n",
    "        'B': [5,3,5,3,5],\n",
    "        'C': [4,6,6,6,4],\n",
    "        'D': [7,8,8,8,7],\n",
    "        'E': [4,6,4,6,4]\n",
    "    }\n",
    "    for pattern in alphabet[letter.upper()]:\n",
    "        print(patterns[pattern])"
   ]
  },
  {
   "cell_type": "code",
   "execution_count": 109,
   "metadata": {},
   "outputs": [
    {
     "name": "stdout",
     "output_type": "stream",
     "text": [
      "*****\n",
      "*    \n",
      "*****\n",
      "*    \n",
      "*****\n"
     ]
    }
   ],
   "source": [
    "print_big('e')"
   ]
  },
  {
   "cell_type": "code",
   "execution_count": 90,
   "metadata": {},
   "outputs": [
    {
     "name": "stdout",
     "output_type": "stream",
     "text": [
      "*****\n",
      "*    \n",
      "*    \n",
      "*    \n",
      "*****\n"
     ]
    }
   ],
   "source": [
    "print_big('c')"
   ]
  },
  {
   "cell_type": "markdown",
   "metadata": {},
   "source": [
    "## Great Job!"
   ]
  },
  {
   "cell_type": "code",
   "execution_count": 74,
   "metadata": {},
   "outputs": [
    {
     "ename": "KeyError",
     "evalue": "'C'",
     "output_type": "error",
     "traceback": [
      "\u001b[0;31m---------------------------------------------------------------------------\u001b[0m",
      "\u001b[0;31mKeyError\u001b[0m                                  Traceback (most recent call last)",
      "\u001b[0;32m<ipython-input-74-5d75287385ea>\u001b[0m in \u001b[0;36m<module>\u001b[0;34m\u001b[0m\n\u001b[0;32m----> 1\u001b[0;31m \u001b[0mprint_big\u001b[0m\u001b[0;34m(\u001b[0m\u001b[0;34m'c'\u001b[0m\u001b[0;34m)\u001b[0m\u001b[0;34m\u001b[0m\u001b[0;34m\u001b[0m\u001b[0m\n\u001b[0m",
      "\u001b[0;32m<ipython-input-71-502919f271a9>\u001b[0m in \u001b[0;36mprint_big\u001b[0;34m(letter)\u001b[0m\n\u001b[1;32m     12\u001b[0m         \u001b[0;34m'B'\u001b[0m\u001b[0;34m:\u001b[0m \u001b[0;34m[\u001b[0m\u001b[0;36m5\u001b[0m\u001b[0;34m,\u001b[0m\u001b[0;36m3\u001b[0m\u001b[0;34m,\u001b[0m\u001b[0;36m5\u001b[0m\u001b[0;34m,\u001b[0m\u001b[0;36m3\u001b[0m\u001b[0;34m,\u001b[0m\u001b[0;36m5\u001b[0m\u001b[0;34m]\u001b[0m\u001b[0;34m\u001b[0m\u001b[0;34m\u001b[0m\u001b[0m\n\u001b[1;32m     13\u001b[0m     }\n\u001b[0;32m---> 14\u001b[0;31m     \u001b[0;32mfor\u001b[0m \u001b[0mpattern\u001b[0m \u001b[0;32min\u001b[0m \u001b[0malphabet\u001b[0m\u001b[0;34m[\u001b[0m\u001b[0mletter\u001b[0m\u001b[0;34m.\u001b[0m\u001b[0mupper\u001b[0m\u001b[0;34m(\u001b[0m\u001b[0;34m)\u001b[0m\u001b[0;34m]\u001b[0m\u001b[0;34m:\u001b[0m\u001b[0;34m\u001b[0m\u001b[0;34m\u001b[0m\u001b[0m\n\u001b[0m\u001b[1;32m     15\u001b[0m         \u001b[0mprint\u001b[0m\u001b[0;34m(\u001b[0m\u001b[0mpatterns\u001b[0m\u001b[0;34m[\u001b[0m\u001b[0mpattern\u001b[0m\u001b[0;34m]\u001b[0m\u001b[0;34m)\u001b[0m\u001b[0;34m\u001b[0m\u001b[0;34m\u001b[0m\u001b[0m\n",
      "\u001b[0;31mKeyError\u001b[0m: 'C'"
     ]
    }
   ],
   "source": [
    "print_big('c')"
   ]
  },
  {
   "cell_type": "code",
   "execution_count": null,
   "metadata": {},
   "outputs": [],
   "source": []
  }
 ],
 "metadata": {
  "kernelspec": {
   "display_name": "Python 3",
   "language": "python",
   "name": "python3"
  },
  "language_info": {
   "codemirror_mode": {
    "name": "ipython",
    "version": 3
   },
   "file_extension": ".py",
   "mimetype": "text/x-python",
   "name": "python",
   "nbconvert_exporter": "python",
   "pygments_lexer": "ipython3",
   "version": "3.7.3"
  }
 },
 "nbformat": 4,
 "nbformat_minor": 2
}
